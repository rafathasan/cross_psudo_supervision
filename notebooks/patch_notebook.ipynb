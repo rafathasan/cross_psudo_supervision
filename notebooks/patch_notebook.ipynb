{
 "cells": [
  {
   "cell_type": "code",
   "execution_count": null,
   "metadata": {},
   "outputs": [],
   "source": [
    "from PIL import Image, ImageOps\n",
    "import matplotlib.pyplot as plt\n",
    "import numpy as np\n",
    "import sys\n",
    "from tqdm import tqdm\n",
    "\n",
    "Image.MAX_IMAGE_PIXELS = sys.maxsize\n",
    "\n",
    "from utils.patch import create_image_patches"
   ]
  },
  {
   "cell_type": "code",
   "execution_count": null,
   "metadata": {},
   "outputs": [],
   "source": [
    "input_train = \"./data/BingRGB/dhaka_train.tif\"\n",
    "input_train_gt = \"./data/BingRGB/dhaka_train_gt.tif\"\n",
    "input_test = \"./data/BingRGB/dhaka_test.tif\"\n",
    "input_test_gt = \"./data/BingRGB/dhaka_test_gt.tif\"\n",
    "\n",
    "train_dir = \"./data/BingRGB/train\"\n",
    "test_dir = \"./data/BingRGB/test\"\n",
    "val_dir = \"./data/BingRGB/val\""
   ]
  },
  {
   "cell_type": "code",
   "execution_count": null,
   "metadata": {},
   "outputs": [],
   "source": [
    "# create_and_save_patch(input_train, train_dir)\n",
    "# create_and_save_patch(input_train_gt, train_dir, postfix='_gt', encode=1)\n",
    "# create_and_save_patch(input_test, test_dir, stride=512)\n",
    "# create_and_save_patch(input_test_gt, test_dir, stride=512, postfix='_gt', encode=1)"
   ]
  },
  {
   "cell_type": "code",
   "execution_count": null,
   "metadata": {},
   "outputs": [],
   "source": [
    "class_map = {(0, 0, 0):      0,  # bg\n",
    "            (0, 255, 0):     1,  # farmland\n",
    "            (0, 0, 255):     2,  # water\n",
    "            (0, 255, 255):   3,  # forest\n",
    "            (128, 0, 0):     4,  # urban_structure\n",
    "            (255, 0, 255):   4,  # rural_built_up\n",
    "            (255, 0, 0):     4,  # urban_built_up\n",
    "            (160, 160, 164): 4,  # road\n",
    "            (255, 255, 0):   5,  # meadow\n",
    "            (255, 251, 240): 5,  # marshland\n",
    "            (128, 0, 128):   4  # brick_factory\n",
    "            }\n",
    "\n",
    "def encode_bw_mask(rgb_mask, class_map=class_map):\n",
    "    # Check if the object is a PIL Image object\n",
    "    assert isinstance(rgb_mask, Image.Image), \"Object is not a PIL Image\"\n",
    "    # Check that all keys are tuples of length 3\n",
    "    assert all(isinstance(k, tuple) and len(k) == 3 for k in class_map.keys()), \"Invalid keys in class_map\"\n",
    "    # Check that all values are integers\n",
    "    assert all(isinstance(v, int) for v in class_map.values()), \"Invalid values in class_map\"\n",
    "\n",
    "    rgb_mask_array = np.array(rgb_mask)\n",
    "    num_classes = len(class_map)\n",
    "    channels = 3\n",
    "\n",
    "    assert rgb_mask_array.shape[2] == channels, f\"mask should have 3 channels but found {rgb_mask_array.shape[2]}.\"\n",
    "    assert len(np.unique(rgb_mask_array)) <= num_classes*channels, \"rgb mask has more classes than expected\"\n",
    "\n",
    "    # Label encode the mask\n",
    "    bw_mask = np.zeros((rgb_mask_array.shape[0], rgb_mask_array.shape[1]), dtype=np.uint8)\n",
    "    for rgb_val, class_label in class_map.items():\n",
    "        indices = np.where(np.all(rgb_mask_array == rgb_val, axis=-1))\n",
    "        bw_mask[indices] = class_label\n",
    "\n",
    "    assert len(bw_mask.shape) == 2, f\"Invalid Shape {bw_mask.shape}\"\n",
    "    assert len(np.unique(bw_mask)) <= num_classes, f\"Invalid number of classes {len(np.unique(bw_mask))}\"\n",
    "\n",
    "    bw_mask = Image.fromarray(bw_mask)\n",
    "\n",
    "    return bw_mask"
   ]
  },
  {
   "cell_type": "code",
   "execution_count": null,
   "metadata": {},
   "outputs": [],
   "source": [
    "func = encode_bw_mask"
   ]
  },
  {
   "cell_type": "code",
   "execution_count": null,
   "metadata": {},
   "outputs": [],
   "source": [
    "\n",
    "create_image_patches(input_train, train_dir)\n",
    "create_image_patches(input_train_gt, train_dir, patch_name_suffix=\"_gt\", patch_function=func)\n",
    "create_image_patches(input_test, test_dir)\n",
    "create_image_patches(input_test_gt, test_dir, patch_name_suffix=\"_gt\", patch_function=func)\n",
    "create_image_patches(input_test, val_dir)\n",
    "create_image_patches(input_test_gt, val_dir, patch_name_suffix=\"_gt\", patch_function=func)"
   ]
  },
  {
   "cell_type": "code",
   "execution_count": null,
   "metadata": {},
   "outputs": [],
   "source": []
  }
 ],
 "metadata": {
  "kernelspec": {
   "display_name": "base",
   "language": "python",
   "name": "python3"
  },
  "language_info": {
   "codemirror_mode": {
    "name": "ipython",
    "version": 3
   },
   "file_extension": ".py",
   "mimetype": "text/x-python",
   "name": "python",
   "nbconvert_exporter": "python",
   "pygments_lexer": "ipython3",
   "version": "3.10.8 (main, Nov  4 2022, 13:48:29) [GCC 11.2.0]"
  },
  "orig_nbformat": 4,
  "vscode": {
   "interpreter": {
    "hash": "d4d1e4263499bec80672ea0156c357c1ee493ec2b1c70f0acce89fc37c4a6abe"
   }
  }
 },
 "nbformat": 4,
 "nbformat_minor": 2
}
