{
 "cells": [
  {
   "cell_type": "code",
   "execution_count": 1,
   "metadata": {},
   "outputs": [],
   "source": [
    "from PIL import Image, ImageOps\n",
    "import os\n",
    "import matplotlib.pyplot as plt\n",
    "import numpy as np\n",
    "import sys\n",
    "from tqdm import tqdm\n",
    "\n",
    "Image.MAX_IMAGE_PIXELS = sys.maxsize\n",
    "\n",
    "os.chdir('/src')\n",
    "\n",
    "from utils.patch import create_and_save_patch"
   ]
  },
  {
   "cell_type": "code",
   "execution_count": 2,
   "metadata": {},
   "outputs": [],
   "source": [
    "input_train = \"/src/data/tmp_download/dhaka_train.tif\"\n",
    "input_train_gt = \"/src/data/tmp_download/dhaka_train_gt.tif\"\n",
    "input_test = \"/src/data/tmp_download/dhaka_test.tif\"\n",
    "input_test_gt = \"/src/data/tmp_download/dhaka_test_gt.tif\"\n",
    "\n",
    "train_dir = \"/src/data/_BingRGB/train\"\n",
    "test_dir = \"/src/data/_BingRGB/test\""
   ]
  },
  {
   "cell_type": "code",
   "execution_count": 3,
   "metadata": {},
   "outputs": [
    {
     "name": "stderr",
     "output_type": "stream",
     "text": [
      "10098it [01:01, 163.42it/s]\n",
      "900it [00:05, 164.29it/s]\n"
     ]
    }
   ],
   "source": [
    "# create_and_save_patch(input_train, train_dir, ext='jpg')\n",
    "create_and_save_patch(input_train_gt, train_dir, ext='png', encode=1)\n",
    "# create_and_save_patch(input_test, test_dir, ext='jpg')\n",
    "create_and_save_patch(input_test_gt, test_dir, ext='png', encode=1)"
   ]
  },
  {
   "cell_type": "code",
   "execution_count": null,
   "metadata": {},
   "outputs": [],
   "source": []
  }
 ],
 "metadata": {
  "kernelspec": {
   "display_name": "base",
   "language": "python",
   "name": "python3"
  },
  "language_info": {
   "codemirror_mode": {
    "name": "ipython",
    "version": 3
   },
   "file_extension": ".py",
   "mimetype": "text/x-python",
   "name": "python",
   "nbconvert_exporter": "python",
   "pygments_lexer": "ipython3",
   "version": "3.10.8 (main, Nov  4 2022, 13:48:29) [GCC 11.2.0]"
  },
  "orig_nbformat": 4,
  "vscode": {
   "interpreter": {
    "hash": "d4d1e4263499bec80672ea0156c357c1ee493ec2b1c70f0acce89fc37c4a6abe"
   }
  }
 },
 "nbformat": 4,
 "nbformat_minor": 2
}
