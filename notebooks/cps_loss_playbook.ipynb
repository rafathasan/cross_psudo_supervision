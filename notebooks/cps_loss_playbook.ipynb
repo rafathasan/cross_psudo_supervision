{
 "cells": [
  {
   "cell_type": "code",
   "execution_count": 69,
   "metadata": {},
   "outputs": [],
   "source": [
    "import torch\n",
    "import sys\n",
    "import matplotlib.pyplot as plt"
   ]
  },
  {
   "cell_type": "code",
   "execution_count": 70,
   "metadata": {},
   "outputs": [],
   "source": [
    "criterion = torch.nn.CrossEntropyLoss(reduction='mean', ignore_index=255)\n",
    "\n",
    "pred_sup_l = torch.randint(low=0, high=6, size=(2, 2)).to('cuda:0').float()\n",
    "pred_unsup_l = torch.randint(low=0, high=6, size=(2, 2)).to('cuda:0').float()\n",
    "pred_sup_r = torch.randint(low=0, high=6, size=(2, 2)).to('cuda:0').float()\n",
    "pred_unsup_r = torch.randint(low=0, high=6, size=(2, 2)).to('cuda:0').float()\n",
    "\n",
    "### cps loss ###\n",
    "pred_l = torch.cat([pred_sup_l, pred_unsup_l], dim=0)\n",
    "pred_r = torch.cat([pred_sup_r, pred_unsup_r], dim=0)\n",
    "_, max_l = torch.max(pred_l, dim=1)\n",
    "_, max_r = torch.max(pred_r, dim=1)\n",
    "max_l = max_l.long()\n",
    "max_r = max_r.long()\n",
    "cps_loss = criterion(pred_l, max_r) + criterion(pred_r, max_l)\n",
    "cps_loss = cps_loss * 1.5\n",
    "\n",
    "# ### standard cross entropy loss ###\n",
    "# loss_sup = criterion(pred_sup_l, gts)\n",
    "\n",
    "# loss_sup_r = criterion(pred_sup_r, gts)\n",
    "\n",
    "# loss = loss_sup + loss_sup_r + cps_loss"
   ]
  },
  {
   "cell_type": "code",
   "execution_count": 71,
   "metadata": {},
   "outputs": [
    {
     "data": {
      "text/plain": [
       "tensor([[0., 3.],\n",
       "        [2., 5.],\n",
       "        [5., 1.],\n",
       "        [1., 5.]], device='cuda:0')"
      ]
     },
     "execution_count": 71,
     "metadata": {},
     "output_type": "execute_result"
    }
   ],
   "source": [
    "pred_l"
   ]
  },
  {
   "cell_type": "code",
   "execution_count": 72,
   "metadata": {},
   "outputs": [
    {
     "data": {
      "text/plain": [
       "torch.return_types.max(\n",
       "values=tensor([3., 5., 5., 5.], device='cuda:0'),\n",
       "indices=tensor([1, 1, 0, 1], device='cuda:0'))"
      ]
     },
     "execution_count": 72,
     "metadata": {},
     "output_type": "execute_result"
    }
   ],
   "source": [
    "torch.max(pred_l, dim=1)"
   ]
  },
  {
   "cell_type": "code",
   "execution_count": 73,
   "metadata": {},
   "outputs": [
    {
     "data": {
      "text/plain": [
       "tensor(1.7834, device='cuda:0')"
      ]
     },
     "execution_count": 73,
     "metadata": {},
     "output_type": "execute_result"
    }
   ],
   "source": [
    "criterion(pred_l, max_r)"
   ]
  },
  {
   "cell_type": "code",
   "execution_count": null,
   "metadata": {},
   "outputs": [],
   "source": []
  }
 ],
 "metadata": {
  "kernelspec": {
   "display_name": "base",
   "language": "python",
   "name": "python3"
  },
  "language_info": {
   "codemirror_mode": {
    "name": "ipython",
    "version": 3
   },
   "file_extension": ".py",
   "mimetype": "text/x-python",
   "name": "python",
   "nbconvert_exporter": "python",
   "pygments_lexer": "ipython3",
   "version": "3.10.8"
  },
  "orig_nbformat": 4,
  "vscode": {
   "interpreter": {
    "hash": "d4d1e4263499bec80672ea0156c357c1ee493ec2b1c70f0acce89fc37c4a6abe"
   }
  }
 },
 "nbformat": 4,
 "nbformat_minor": 2
}
